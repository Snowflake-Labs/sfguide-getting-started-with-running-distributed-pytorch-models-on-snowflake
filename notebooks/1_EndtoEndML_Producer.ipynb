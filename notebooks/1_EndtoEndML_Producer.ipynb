{
 "metadata": {
  "kernelspec": {
   "display_name": "Streamlit Notebook",
   "name": "streamlit"
  }
 },
 "nbformat_minor": 5,
 "nbformat": 4,
 "cells": [
  {
   "cell_type": "markdown",
   "id": "69eb2830-8f42-4479-aca3-3c4415146c3f",
   "metadata": {
    "name": "Producer_Notebook",
    "collapsed": false
   },
   "source": "# End-to-End ML Producer Notebook\nThis notebook creates and operates on feature views. Producers manage feature views and entities in the feature store, facilitating collaboration and feature reuse across departments. This approach breaks down silos between training and serving environments and simplifies aggregations and moving window calculations using Python commands. Import the Producer Notebook into your Snowflake account by following the instructions provided below. This will create all the necessary feature views for the consumers."
  },
  {
   "cell_type": "markdown",
   "id": "cff48f13-fda2-4f65-b7d8-0bf9ce536f7e",
   "metadata": {
    "name": "Setup",
    "collapsed": false
   },
   "source": "## Setup\nImport the importlib.metadata module and utilize it to fetch and print metadata for a specified list of packages."
  },
  {
   "cell_type": "code",
   "id": "aa50319a-8fbd-4a48-9025-3d4835d2e731",
   "metadata": {
    "language": "python",
    "name": "Metadata",
    "collapsed": false
   },
   "outputs": [],
   "source": "import importlib.metadata\npackage_names = ['snowbooks']#,'mlruntimes_service', 'mlruntimes_client']\nfor package_name in package_names:\n\tmetadata = importlib.metadata.metadata(package_name)\n\tprint(f\"Metadata for {package_name}:\")\n\tfor key, value in metadata.items():\n\t    print(f\"{key}: {value}\")",
   "execution_count": null
  },
  {
   "cell_type": "markdown",
   "id": "65e81d34-1446-4466-b896-e3869b4d7270",
   "metadata": {
    "name": "Import_Packages"
   },
   "source": "Import the necessary packages for development."
  },
  {
   "cell_type": "code",
   "id": "3775908f-ca36-4846-8f38-5adca39217f2",
   "metadata": {
    "language": "python",
    "name": "Importing_Packages",
    "collapsed": false
   },
   "source": "# Import python packages\nimport streamlit as st\nimport pandas as pd\nfrom snowflake.snowpark import Window\nfrom snowflake.snowpark.functions import *\n\nfrom snowflake.snowpark.context import get_active_session\nsession = get_active_session()\n\n\nfrom snowflake.snowpark import functions as F\nfrom snowflake.ml.feature_store import (\nFeatureStore,\nFeatureView,\nEntity,\nCreationMode\n)\nfrom snowflake.ml.utils.connection_params import SnowflakeLoginOptions\n\ndb = str(session.get_current_database().strip('\"'))\nsolution_prefix = (db.upper()).split('_PROD')[0]",
   "execution_count": null,
   "outputs": []
  },
  {
   "cell_type": "markdown",
   "id": "668a97ec-9ab4-4670-b734-3d4f4958ee39",
   "metadata": {
    "name": "Feature_Store_Schemas",
    "collapsed": false
   },
   "source": "\n## Feature Store Schema & Privileges\nCreate a feature store schema and grant all necessary privileges for the producer to create feature store views, as well as the privileges for consumers to access these views."
  },
  {
   "cell_type": "code",
   "id": "905a337c-6b5a-410b-9974-971b1efba648",
   "metadata": {
    "language": "sql",
    "name": "Feature_Store_Schema_Privileges",
    "collapsed": false
   },
   "outputs": [],
   "source": "USE ROLE ACCOUNTADMIN;\nSET FS_ROLE_PRODUCER = 'SYSADMIN';\nSET FS_ROLE_CONSUMER = '{{solution_prefix}}_DATA_SCIENTIST';\nSET FS_DATABASE = '{{solution_prefix}}_PROD';\nSET FS_SCHEMA = 'FS_SCHEMA';\nSET SCHEMA_FQN = CONCAT($FS_DATABASE, '.', $FS_SCHEMA);\nSET FS_WAREHOUSE = '{{solution_prefix}}_DS_WH';\nSET MR_DEMO_DB='{{solution_prefix}}_PROD';\n\n-- Create schema\nCREATE SCHEMA IF NOT EXISTS IDENTIFIER($FS_SCHEMA);\n\n-- Build role hierarchy\nGRANT ROLE IDENTIFIER($FS_ROLE_CONSUMER) TO ROLE IDENTIFIER($FS_ROLE_PRODUCER);\n\n-- Grant PRODUCER role privileges\nGRANT USAGE ON DATABASE IDENTIFIER($FS_DATABASE) TO ROLE IDENTIFIER($FS_ROLE_PRODUCER);\nGRANT USAGE ON SCHEMA IDENTIFIER($SCHEMA_FQN) TO ROLE IDENTIFIER($FS_ROLE_PRODUCER);\nGRANT CREATE DYNAMIC TABLE ON SCHEMA IDENTIFIER($SCHEMA_FQN) TO ROLE IDENTIFIER($FS_ROLE_PRODUCER);\nGRANT CREATE VIEW ON SCHEMA IDENTIFIER($SCHEMA_FQN) TO ROLE IDENTIFIER($FS_ROLE_PRODUCER);\nGRANT CREATE TAG ON SCHEMA IDENTIFIER($SCHEMA_FQN) TO ROLE IDENTIFIER($FS_ROLE_PRODUCER);\nGRANT CREATE DATASET ON SCHEMA IDENTIFIER($SCHEMA_FQN) TO ROLE IDENTIFIER($FS_ROLE_PRODUCER);\nGRANT APPLY TAG ON ACCOUNT TO ROLE IDENTIFIER($FS_ROLE_PRODUCER);\n\n-- Grant CONSUMER role privileges\nGRANT USAGE ON DATABASE IDENTIFIER($FS_DATABASE) TO ROLE IDENTIFIER($FS_ROLE_CONSUMER);\nGRANT USAGE ON SCHEMA IDENTIFIER($SCHEMA_FQN) TO ROLE IDENTIFIER($FS_ROLE_CONSUMER);\nGRANT SELECT,MONITOR ON FUTURE DYNAMIC TABLES IN SCHEMA IDENTIFIER($SCHEMA_FQN) TO ROLE IDENTIFIER($FS_ROLE_CONSUMER);\nGRANT SELECT,MONITOR ON ALL DYNAMIC TABLES IN SCHEMA IDENTIFIER($SCHEMA_FQN) TO ROLE IDENTIFIER($FS_ROLE_CONSUMER);\nGRANT SELECT,REFERENCES ON FUTURE VIEWS IN SCHEMA IDENTIFIER($SCHEMA_FQN) TO ROLE IDENTIFIER($FS_ROLE_CONSUMER);\nGRANT SELECT,REFERENCES ON ALL VIEWS IN SCHEMA IDENTIFIER($SCHEMA_FQN) TO ROLE IDENTIFIER($FS_ROLE_CONSUMER);\nGRANT CREATE DATASET ON SCHEMA IDENTIFIER($SCHEMA_FQN) TO ROLE IDENTIFIER($FS_ROLE_CONSUMER);\n\n-- [Optional] Grant USAGE ON WAREHOUSE to CONSUMER\nGRANT USAGE ON WAREHOUSE IDENTIFIER($FS_WAREHOUSE) TO ROLE IDENTIFIER($FS_ROLE_CONSUMER);\nGRANT USAGE ON SCHEMA IDENTIFIER($SCHEMA_FQN) TO ROLE IDENTIFIER($FS_ROLE_PRODUCER);\n",
   "execution_count": null
  },
  {
   "cell_type": "markdown",
   "id": "f304f501-56f4-4561-a3de-808a35a99ecb",
   "metadata": {
    "name": "Feature_Store",
    "collapsed": false
   },
   "source": "## Feature Store\nDefine the Feature Store"
  },
  {
   "cell_type": "code",
   "id": "6f47eb53-ac83-40f2-bdb4-7fccf3ea79be",
   "metadata": {
    "language": "python",
    "name": "fsdefinition",
    "collapsed": false
   },
   "outputs": [],
   "source": "session.sql('USE ROLE SYSADMIN')\nsession.sql(f'USE WAREHOUSE {solution_prefix}_DS_WH').collect()\nsession.sql('USE SCHEMA FS_SCHEMA').collect()\n\nFS=FeatureStore(\nsession=session,\ndatabase=f\"{solution_prefix}_PROD\",\n    name=\"FS_SCHEMA\",\n    default_warehouse=f\"{solution_prefix}_DS_WH\",\n    creation_mode=CreationMode.CREATE_IF_NOT_EXIST)",
   "execution_count": null
  },
  {
   "cell_type": "code",
   "id": "b9617f2d-8297-49e1-a305-275e1bfbfc87",
   "metadata": {
    "language": "python",
    "name": "menu",
    "collapsed": false
   },
   "outputs": [],
   "source": "menu_spdf = session.sql(\"SELECT menu_type, truck_brand_name, menu_item_name, item_category, item_subcategory, sale_price_usd FROM raw_pos.menu WHERE item_category != 'Beverage'\");\nmenu_spdf",
   "execution_count": null
  },
  {
   "cell_type": "code",
   "id": "c6766400-ef48-4b04-bf98-c5ea27fcd55d",
   "metadata": {
    "language": "python",
    "name": "cust",
    "collapsed": false
   },
   "outputs": [],
   "source": "cust_spdf = session.sql(\"SELECT customer_id, city, country, gender, marital_status, birthday_date, DATEDIFF(year, birthday_date, CURRENT_DATE()) AS age FROM raw_customer.customer_loyalty\");\nst.dataframe(cust_spdf)",
   "execution_count": null
  },
  {
   "cell_type": "code",
   "id": "07c699ab-9bb4-4586-98a6-3caeb7c7d857",
   "metadata": {
    "language": "python",
    "name": "avg_monthly",
    "collapsed": false
   },
   "outputs": [],
   "source": "avg_monthly_purchase_amount = session.sql(f\"SELECT  customer_id, ROUND(SUM(order_total) / (TIMESTAMPDIFF(MONTH, MIN(date), MAX(date)) + 1),2) AS avg_monthly_purchase_amount FROM {solution_prefix}_PROD.ANALYTICS.ORDERS_V GROUP BY customer_id\")\navg_monthly_purchase_amount",
   "execution_count": null
  },
  {
   "cell_type": "code",
   "id": "eec6a3bb-cf57-4862-a26d-a2a427c14755",
   "metadata": {
    "language": "python",
    "name": "avg_weekly",
    "collapsed": false
   },
   "outputs": [],
   "source": "avg_weekly_purchase_amount = session.sql(f\"SELECT customer_id,ROUND(SUM(order_total) / (TIMESTAMPDIFF(WEEK, MIN(date), MAX(date)) + 1),2) AS avg_weekly_purchase_amount FROM {solution_prefix}_PROD.ANALYTICS.ORDERS_V GROUP BY customer_id\");\navg_weekly_purchase_amount",
   "execution_count": null
  },
  {
   "cell_type": "code",
   "id": "39e3ccb3-4df9-4f9b-906b-875dbd853499",
   "metadata": {
    "language": "python",
    "name": "avgyearly",
    "collapsed": false
   },
   "outputs": [],
   "source": "avg_yearly_purchase_amount = session.sql(f\"SELECT customer_id, ROUND(SUM(order_total)/(TIMESTAMPDIFF(YEAR, MIN(date), MAX(date)) + 1),2) AS avg_yearly_purchase_amount FROM {solution_prefix}_PROD.ANALYTICS.ORDERS_V GROUP BY customer_id\")\navg_yearly_purchase_amount",
   "execution_count": null
  },
  {
   "cell_type": "code",
   "id": "db52913b-6571-4333-ad34-e67e19c94052",
   "metadata": {
    "language": "python",
    "name": "joined_avgs",
    "collapsed": false
   },
   "outputs": [],
   "source": "cust_avgs_spdf= avg_monthly_purchase_amount.join(avg_weekly_purchase_amount,\"CUSTOMER_ID\").join(avg_yearly_purchase_amount,\"CUSTOMER_ID\")\nst.dataframe(cust_avgs_spdf)",
   "execution_count": null
  },
  {
   "cell_type": "markdown",
   "id": "a4aace59-8368-48f7-a828-23fd957b86e3",
   "metadata": {
    "name": "entities",
    "collapsed": false
   },
   "source": "Create feature Store Entities"
  },
  {
   "cell_type": "code",
   "id": "a8aa7f88-3601-48e2-87bc-6aaad9907ab1",
   "metadata": {
    "language": "python",
    "name": "create_entities",
    "collapsed": false,
    "codeCollapsed": false
   },
   "outputs": [],
   "source": "\n# Snowflake Feature Store requires an \"entity\" with \"join_keys\" be registered\ncustentity = Entity(name=\"CustomerIds\", join_keys=[\"Customer_ID\"])\nFS.register_entity(custentity)\n\nMenuentity = Entity(name=\"Menu_ItemNames\", join_keys=[\"MENU_ITEM_NAME\"])\nFS.register_entity(Menuentity)\n\n\nPurchaseavgs_entity = Entity(name=\"Purchase_Avgs\", join_keys=[\"Customer_ID\"])\nFS.register_entity(Purchaseavgs_entity)",
   "execution_count": null
  },
  {
   "cell_type": "code",
   "id": "23b7428d-35f9-4730-acf9-25742e72e4d3",
   "metadata": {
    "language": "python",
    "name": "list_entities",
    "collapsed": false,
    "codeCollapsed": false
   },
   "outputs": [],
   "source": "FS.list_entities().show(100)",
   "execution_count": null
  },
  {
   "cell_type": "markdown",
   "id": "6f1d70d6-d0c8-4e8e-b168-2e78b46cb832",
   "metadata": {
    "name": "register1",
    "collapsed": false
   },
   "source": "Register Customer Features View"
  },
  {
   "cell_type": "code",
   "id": "65936dde-d36b-448e-b840-5e06bf20e336",
   "metadata": {
    "language": "python",
    "name": "register_cust",
    "collapsed": false
   },
   "outputs": [],
   "source": "fv = FeatureView(\n    name=\"CUSTOMER_FEATURES\",\n    entities = [custentity],\n    feature_df=cust_spdf,\n    refresh_freq=\"1 day\"\n)\nregistered_fv = FS.register_feature_view(\n    feature_view=fv,\n    version=\"V1\",\n     block=True,\n    overwrite=True\n)",
   "execution_count": null
  },
  {
   "cell_type": "markdown",
   "id": "9082adfa-19c3-47ff-b81f-fd56fc479f42",
   "metadata": {
    "name": "register2",
    "collapsed": false
   },
   "source": "Register Menu Features View"
  },
  {
   "cell_type": "code",
   "id": "26b49414-6eaa-4ea7-9d26-eec58ab69b5b",
   "metadata": {
    "language": "python",
    "name": "register_menu",
    "collapsed": false
   },
   "outputs": [],
   "source": "fv = FeatureView(\n    name=\"MENU_FEATURES\",\n    entities = [Menuentity],\n    feature_df=menu_spdf,\n    refresh_freq=\"1 day\"\n)\n\nregistered_fv = FS.register_feature_view(\n    feature_view=fv,\n    version=\"V1\",\n    block=True,\n    overwrite=True\n)",
   "execution_count": null
  },
  {
   "cell_type": "markdown",
   "id": "ea6fcb19-8690-4699-bb65-5d8337ea3267",
   "metadata": {
    "name": "register3",
    "collapsed": false
   },
   "source": "Register Purchase Features View"
  },
  {
   "cell_type": "code",
   "id": "f1c8c8f7-097a-4276-b777-4da77877e4c3",
   "metadata": {
    "language": "python",
    "name": "register_purch",
    "collapsed": false
   },
   "outputs": [],
   "source": "fv = FeatureView(\n    name=\"PURCHASE_FEATURES\",\n    entities = [Purchaseavgs_entity],\n    feature_df=cust_avgs_spdf,\n    refresh_freq=\"1 day\"\n)\n\nregistered_fv = FS.register_feature_view(\n    feature_view=fv,\n    version=\"V1\",\n     block=True,\n    overwrite=True\n)",
   "execution_count": null
  },
  {
   "cell_type": "code",
   "id": "98179f39-63f0-41a9-95e9-14ad027ca418",
   "metadata": {
    "language": "python",
    "name": "feature_views",
    "collapsed": false,
    "codeCollapsed": false
   },
   "outputs": [],
   "source": "FS.list_feature_views(entity_name=\"CustomerIds\")",
   "execution_count": null
  }
 ]
}